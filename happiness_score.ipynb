{
 "cells": [
  {
   "cell_type": "code",
   "execution_count": null,
   "id": "d99b3762-c200-4b8f-9d49-ddd5f80f9720",
   "metadata": {},
   "outputs": [],
   "source": [
    "import numpy as np\n",
    "import pandas as pd\n",
    "import re\n",
    "import happiness_score_cleaning as hsc\n",
    "\n",
    "\n",
    "%load_ext autoreload\n",
    "%autoreload 2 \n",
    "\n",
    "\n",
    "pd.options.display.float_format = '{:.2f}'.format\n",
    "pd.set_option('display.max_rows', 200)\n",
    "pd.set_option('display.max_columns', 30)\n",
    "\n",
    "\n",
    "world_happiness_df = pd.read_csv(\"World Happiness Report 2022.csv\")"
   ]
  },
  {
   "cell_type": "code",
   "execution_count": null,
   "id": "092b681e-52a5-4cf2-9ae2-d639d905cb8f",
   "metadata": {},
   "outputs": [],
   "source": [
    "world_happiness_df[\"Country\"].duplicated().sum()"
   ]
  },
  {
   "cell_type": "code",
   "execution_count": null,
   "id": "13211fad-3936-4c19-aaeb-a6cdee25c54f",
   "metadata": {},
   "outputs": [],
   "source": [
    "world_happiness_df[\"Country\"].isnull().sum()"
   ]
  },
  {
   "cell_type": "code",
   "execution_count": null,
   "id": "100a800d-26f8-4d65-b03f-04539edec6e4",
   "metadata": {},
   "outputs": [],
   "source": [
    "world_hapiness_df2 = hsc.strip_replace_ws (world_happiness_df)"
   ]
  },
  {
   "cell_type": "code",
   "execution_count": null,
   "id": "471718e4-ff2c-4141-ab27-fe4f11c19592",
   "metadata": {},
   "outputs": [],
   "source": [
    "substring_replacements = {'*':''} \n",
    "whole_replacements = {}"
   ]
  },
  {
   "cell_type": "code",
   "execution_count": null,
   "id": "fbb116d4-cf1b-46cd-a5ab-a7b2f7777bf0",
   "metadata": {},
   "outputs": [],
   "source": [
    "world_happiness_df3 = hsc.replace_values(world_hapiness_df2, whole_replacements, substring_replacements)"
   ]
  },
  {
   "cell_type": "code",
   "execution_count": null,
   "id": "bec5d033-1aa5-4b4c-adf5-2d2396b7fd8e",
   "metadata": {},
   "outputs": [],
   "source": [
    "world_happiness_df3"
   ]
  },
  {
   "cell_type": "code",
   "execution_count": null,
   "id": "83ea3c5c-97c7-463e-afcc-93e17031eeb4",
   "metadata": {},
   "outputs": [],
   "source": [
    "country_list2 = [row for row in world_happiness_df3[\"country\"]]\n",
    "\n",
    "display(country_list2)"
   ]
  },
  {
   "cell_type": "code",
   "execution_count": null,
   "id": "1493e14d-a210-45c3-8ce3-0b2aceac68bb",
   "metadata": {},
   "outputs": [],
   "source": [
    "world_happiness_df4 = world_happiness_df3.drop(world_happiness_df3.columns[3:], axis=1)"
   ]
  },
  {
   "cell_type": "code",
   "execution_count": null,
   "id": "42f9e731-86b9-45eb-9b73-69bb82652c59",
   "metadata": {},
   "outputs": [],
   "source": [
    "# Save DataFrame to CSV\n",
    "world_happiness_df4.to_csv('world_happiness_score_2022.csv', index=False)\n"
   ]
  },
  {
   "cell_type": "code",
   "execution_count": null,
   "id": "00f1a45e-bb8d-4ee9-8f26-58a9bdf4fa70",
   "metadata": {},
   "outputs": [],
   "source": []
  }
 ],
 "metadata": {
  "kernelspec": {
   "display_name": "Python 3 (ipykernel)",
   "language": "python",
   "name": "python3"
  },
  "language_info": {
   "codemirror_mode": {
    "name": "ipython",
    "version": 3
   },
   "file_extension": ".py",
   "mimetype": "text/x-python",
   "name": "python",
   "nbconvert_exporter": "python",
   "pygments_lexer": "ipython3",
   "version": "3.12.4"
  }
 },
 "nbformat": 4,
 "nbformat_minor": 5
}
